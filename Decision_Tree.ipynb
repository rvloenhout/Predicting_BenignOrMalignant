{
 "cells": [
  {
   "cell_type": "code",
   "execution_count": 99,
   "metadata": {},
   "outputs": [],
   "source": [
    "import numpy as np\n",
    "import pandas as pd\n",
    "from sklearn.model_selection import train_test_split\n",
    "from scipy.stats import describe\n",
    "from sklearn.tree import DecisionTreeClassifier\n",
    "from sklearn.tree import plot_tree\n",
    "import sklearn.metrics"
   ]
  },
  {
   "cell_type": "code",
   "execution_count": 77,
   "metadata": {},
   "outputs": [
    {
     "name": "stdout",
     "output_type": "stream",
     "text": [
      "DescribeResult(nobs=683, minmax=(array([63375,     1,     1,     1,     1,     1,     1,     1,     1,\n",
      "           1,     2], dtype=int64), array([13454352,       10,       10,       10,       10,       10,\n",
      "             10,       10,       10,       10,        4], dtype=int64)), mean=array([1.07672023e+06, 4.44216691e+00, 3.15080527e+00, 3.21522694e+00,\n",
      "       2.83016105e+00, 3.23426061e+00, 3.54465593e+00, 3.44509517e+00,\n",
      "       2.86969253e+00, 1.60322108e+00, 2.69985359e+00]), variance=array([3.85199034e+11, 7.95669442e+00, 9.39511299e+00, 8.93161531e+00,\n",
      "       8.20571654e+00, 4.94210895e+00, 1.32776950e+01, 6.00101330e+00,\n",
      "       9.31877219e+00, 3.00215970e+00, 9.11246313e-01]), skewness=array([13.71819765,  0.58636285,  1.22370903,  1.15534551,  1.50586459,\n",
      "        1.69997243,  0.98784006,  1.09286357,  1.41730968,  3.50375965,\n",
      "        0.62930825]), kurtosis=array([ 2.55479394e+02, -6.37271072e-01,  6.43689358e-02, -2.54647013e-02,\n",
      "        9.26750378e-01,  2.10530894e+00, -8.01779986e-01,  1.57648952e-01,\n",
      "        4.61356496e-01,  1.21749367e+01, -1.60397113e+00]))\n"
     ]
    }
   ],
   "source": [
    "#loading data into dataframe and summarize basic statistics over all columns\n",
    "tumor_df = pd.read_csv(\"./tumor_dataset.csv\")\n",
    "stats = describe(tumor_df, axis=0)\n",
    "print(stats)\n",
    "stats_df = pd.DataFrame(columns=stats._fields)"
   ]
  },
  {
   "cell_type": "code",
   "execution_count": 63,
   "metadata": {},
   "outputs": [
    {
     "data": {
      "text/plain": [
       "Sample code number             False\n",
       "Clump Thickness                False\n",
       "Uniformity of Cell Size        False\n",
       "Uniformity of Cell Shape       False\n",
       "Marginal Adhesion              False\n",
       "Single Epithelial Cell Size    False\n",
       "Bare Nuclei                    False\n",
       "Bland Chromatin                False\n",
       "Normal Nucleoli                False\n",
       "Mitoses                        False\n",
       "Class                          False\n",
       "dtype: bool"
      ]
     },
     "execution_count": 63,
     "metadata": {},
     "output_type": "execute_result"
    }
   ],
   "source": [
    "#Checking for missing values\n",
    "tumor_df.isnull().any()"
   ]
  },
  {
   "cell_type": "code",
   "execution_count": 92,
   "metadata": {},
   "outputs": [
    {
     "name": "stderr",
     "output_type": "stream",
     "text": [
      "C:\\Users\\Rvanl\\AppData\\Local\\Temp\\ipykernel_12000\\1654556999.py:8: SettingWithCopyWarning: \n",
      "A value is trying to be set on a copy of a slice from a DataFrame.\n",
      "Try using .loc[row_indexer,col_indexer] = value instead\n",
      "\n",
      "See the caveats in the documentation: https://pandas.pydata.org/pandas-docs/stable/user_guide/indexing.html#returning-a-view-versus-a-copy\n",
      "  y['Class'] = y['Class'].map({2: \"No\", 4: \"Yes\"})\n"
     ]
    }
   ],
   "source": [
    "#Splitting the data into training (~80%), validation (~10%) and test (~10%) data\n",
    "x_columns = [\"Sample code number\", \"Clump Thickness\", \"Uniformity of Cell Size\", \"Uniformity of Cell Shape\", \"Marginal Adhesion\", \"Single Epithelial Cell Size\", \"Bare Nuclei\", \"Bland Chromatin\", \"Normal Nucleoli\", \"Mitoses\"]\n",
    "y_column = [\"Class\"]\n",
    "X = tumor_df[x_columns]\n",
    "y = tumor_df[y_column]\n",
    "\n",
    "#Transform 2 (for benign) into \"No\" (0) and 4 (for malignant) into \"Yes\" (1)\n",
    "y['Class'] = y['Class'].map({2: \"No\", 4: \"Yes\"})\n",
    "\n",
    "X_train, X_test, y_train, y_test = train_test_split(X, y, test_size=0.1, random_state=101)\n",
    "X_train, X_val, y_train, y_val = train_test_split(X_train, y_train, test_size=0.1, random_state=101)"
   ]
  },
  {
   "cell_type": "code",
   "execution_count": 96,
   "metadata": {},
   "outputs": [
    {
     "name": "stdout",
     "output_type": "stream",
     "text": [
      "['Yes' 'Yes' 'No' 'Yes' 'No' 'Yes' 'Yes' 'No' 'No' 'No' 'No' 'No' 'No'\n",
      " 'No' 'Yes' 'Yes' 'Yes' 'No' 'No' 'No' 'No' 'Yes' 'Yes' 'Yes' 'Yes' 'No'\n",
      " 'Yes' 'No' 'Yes' 'No' 'No' 'No' 'Yes' 'No' 'No' 'No' 'No' 'No' 'No' 'No'\n",
      " 'Yes' 'No' 'No' 'No' 'No' 'No' 'No' 'No' 'No' 'No' 'No' 'No' 'Yes' 'No'\n",
      " 'No' 'No' 'No' 'No' 'Yes' 'Yes' 'No' 'No']\n"
     ]
    }
   ],
   "source": [
    "HP_criterion = \"entropy\"\n",
    "HP_splitter = \"best\"\n",
    "HP_max_depth = 0\n",
    "\n",
    "DTC = DecisionTreeClassifier(criterion=HP_criterion)\n",
    "model = DTC.fit(X_train,y_train)\n",
    "y_pred_val = model.predict(X_val)\n",
    "print(y_pred_val)"
   ]
  },
  {
   "cell_type": "code",
   "execution_count": 98,
   "metadata": {},
   "outputs": [],
   "source": [
    "#plot_tree(model)"
   ]
  },
  {
   "cell_type": "code",
   "execution_count": 101,
   "metadata": {},
   "outputs": [
    {
     "name": "stdout",
     "output_type": "stream",
     "text": [
      "0.9838709677419355\n"
     ]
    },
    {
     "ename": "TypeError",
     "evalue": "ConfusionMatrixDisplay.__init__() takes 2 positional arguments but 3 were given",
     "output_type": "error",
     "traceback": [
      "\u001b[1;31m---------------------------------------------------------------------------\u001b[0m",
      "\u001b[1;31mTypeError\u001b[0m                                 Traceback (most recent call last)",
      "\u001b[1;32mc:\\Users\\Rvanl\\OneDrive\\Bureaublad\\First_ML_Project\\Predicting_BenignOrMalignant\\Decision_Tree.ipynb Cell 7\u001b[0m in \u001b[0;36m<cell line: 2>\u001b[1;34m()\u001b[0m\n\u001b[0;32m      <a href='vscode-notebook-cell:/c%3A/Users/Rvanl/OneDrive/Bureaublad/First_ML_Project/Predicting_BenignOrMalignant/Decision_Tree.ipynb#X11sZmlsZQ%3D%3D?line=0'>1</a>\u001b[0m \u001b[39mprint\u001b[39m(sklearn\u001b[39m.\u001b[39mmetrics\u001b[39m.\u001b[39maccuracy_score(y_val, y_pred_val))\n\u001b[1;32m----> <a href='vscode-notebook-cell:/c%3A/Users/Rvanl/OneDrive/Bureaublad/First_ML_Project/Predicting_BenignOrMalignant/Decision_Tree.ipynb#X11sZmlsZQ%3D%3D?line=1'>2</a>\u001b[0m \u001b[39mprint\u001b[39m(sklearn\u001b[39m.\u001b[39;49mmetrics\u001b[39m.\u001b[39;49mConfusionMatrixDisplay(y_val, y_pred_val))\n",
      "\u001b[1;31mTypeError\u001b[0m: ConfusionMatrixDisplay.__init__() takes 2 positional arguments but 3 were given"
     ]
    }
   ],
   "source": [
    "print(sklearn.metrics.accuracy_score(y_val, y_pred_val))\n",
    "print(sklearn.metrics.ConfusionMatrixDisplay(y_val, y_pred_val))"
   ]
  },
  {
   "cell_type": "code",
   "execution_count": null,
   "metadata": {},
   "outputs": [],
   "source": [
    "#Todo\n",
    "# DS Tree\n",
    "# Gradiant decent for best hyperparameter?\n",
    "# Scores (MSE, Accuracy etc)"
   ]
  }
 ],
 "metadata": {
  "kernelspec": {
   "display_name": "Python 3",
   "language": "python",
   "name": "python3"
  },
  "language_info": {
   "codemirror_mode": {
    "name": "ipython",
    "version": 3
   },
   "file_extension": ".py",
   "mimetype": "text/x-python",
   "name": "python",
   "nbconvert_exporter": "python",
   "pygments_lexer": "ipython3",
   "version": "3.10.11"
  },
  "orig_nbformat": 4
 },
 "nbformat": 4,
 "nbformat_minor": 2
}
